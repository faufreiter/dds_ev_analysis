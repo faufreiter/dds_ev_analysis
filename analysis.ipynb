{
 "cells": [
  {
   "cell_type": "markdown",
   "metadata": {},
   "source": [
    "# Data Loading\n",
    "\n",
    "In the first step, we load the required data for our analysis. We read the electric vehicle population data and the census median income data from their respective CSV files."
   ]
  },
  {
   "cell_type": "code",
   "execution_count": 1,
   "metadata": {},
   "outputs": [],
   "source": [
    "import pandas as pd\n",
    "\n",
    "electric_vehicle_population = pd.read_csv(\"/Users/larsboesch/Documents/UZH/HS24/DataScience/dds_ev_analysis/EV-data.csv\")\n",
    "census_median_income = pd.read_csv(\"/Users/larsboesch/Documents/UZH/HS24/DataScience/dds_ev_analysis/census-data.csv\")"
   ]
  },
  {
   "cell_type": "markdown",
   "metadata": {},
   "source": [
    "# Clean Vehicle Data\n",
    "\n",
    "To simplify the column names for easier use in python, we will rename the columns to lowercase and replace spaces with underscores. We will also remove the four rows where the \"model\" column contains NA values. Additionally, we will create a new column, \"vehicle,\" by combining the \"year,\" \"make,\" and \"model\" fields."
   ]
  },
  {
   "cell_type": "code",
   "execution_count": 2,
   "metadata": {
    "vscode": {
     "languageId": "ruby"
    }
   },
   "outputs": [
    {
     "data": {
      "text/html": [
       "<div>\n",
       "<style scoped>\n",
       "    .dataframe tbody tr th:only-of-type {\n",
       "        vertical-align: middle;\n",
       "    }\n",
       "\n",
       "    .dataframe tbody tr th {\n",
       "        vertical-align: top;\n",
       "    }\n",
       "\n",
       "    .dataframe thead th {\n",
       "        text-align: right;\n",
       "    }\n",
       "</style>\n",
       "<table border=\"1\" class=\"dataframe\">\n",
       "  <thead>\n",
       "    <tr style=\"text-align: right;\">\n",
       "      <th></th>\n",
       "      <th>vin_(1-10)</th>\n",
       "      <th>county</th>\n",
       "      <th>city</th>\n",
       "      <th>state</th>\n",
       "      <th>postal_code</th>\n",
       "      <th>model_year</th>\n",
       "      <th>make</th>\n",
       "      <th>model</th>\n",
       "      <th>electric_vehicle_type</th>\n",
       "      <th>clean_alternative_fuel_vehicle_(cafv)_eligibility</th>\n",
       "      <th>electric_range</th>\n",
       "      <th>base_msrp</th>\n",
       "      <th>legislative_district</th>\n",
       "      <th>dol_vehicle_id</th>\n",
       "      <th>vehicle_location</th>\n",
       "      <th>electric_utility</th>\n",
       "      <th>2020_census_tract</th>\n",
       "      <th>vehicle</th>\n",
       "    </tr>\n",
       "  </thead>\n",
       "  <tbody>\n",
       "    <tr>\n",
       "      <th>0</th>\n",
       "      <td>1N4AZ0CP8D</td>\n",
       "      <td>King</td>\n",
       "      <td>Shoreline</td>\n",
       "      <td>WA</td>\n",
       "      <td>98177.0</td>\n",
       "      <td>2013</td>\n",
       "      <td>NISSAN</td>\n",
       "      <td>LEAF</td>\n",
       "      <td>Battery Electric Vehicle (BEV)</td>\n",
       "      <td>Clean Alternative Fuel Vehicle Eligible</td>\n",
       "      <td>75.0</td>\n",
       "      <td>0.0</td>\n",
       "      <td>32.0</td>\n",
       "      <td>125450447</td>\n",
       "      <td>POINT (-122.36498 47.72238)</td>\n",
       "      <td>CITY OF SEATTLE - (WA)|CITY OF TACOMA - (WA)</td>\n",
       "      <td>5.303302e+10</td>\n",
       "      <td>2013 NISSAN LEAF</td>\n",
       "    </tr>\n",
       "    <tr>\n",
       "      <th>1</th>\n",
       "      <td>5YJSA1E45K</td>\n",
       "      <td>King</td>\n",
       "      <td>Seattle</td>\n",
       "      <td>WA</td>\n",
       "      <td>98112.0</td>\n",
       "      <td>2019</td>\n",
       "      <td>TESLA</td>\n",
       "      <td>MODEL S</td>\n",
       "      <td>Battery Electric Vehicle (BEV)</td>\n",
       "      <td>Clean Alternative Fuel Vehicle Eligible</td>\n",
       "      <td>270.0</td>\n",
       "      <td>0.0</td>\n",
       "      <td>43.0</td>\n",
       "      <td>101662900</td>\n",
       "      <td>POINT (-122.30207 47.64085)</td>\n",
       "      <td>CITY OF SEATTLE - (WA)|CITY OF TACOMA - (WA)</td>\n",
       "      <td>5.303301e+10</td>\n",
       "      <td>2019 TESLA MODEL S</td>\n",
       "    </tr>\n",
       "    <tr>\n",
       "      <th>2</th>\n",
       "      <td>WVGUNPE28M</td>\n",
       "      <td>Kitsap</td>\n",
       "      <td>Olalla</td>\n",
       "      <td>WA</td>\n",
       "      <td>98359.0</td>\n",
       "      <td>2021</td>\n",
       "      <td>VOLKSWAGEN</td>\n",
       "      <td>ID.4</td>\n",
       "      <td>Battery Electric Vehicle (BEV)</td>\n",
       "      <td>Eligibility unknown as battery range has not b...</td>\n",
       "      <td>0.0</td>\n",
       "      <td>0.0</td>\n",
       "      <td>26.0</td>\n",
       "      <td>272118717</td>\n",
       "      <td>POINT (-122.54729 47.42602)</td>\n",
       "      <td>PUGET SOUND ENERGY INC</td>\n",
       "      <td>5.303509e+10</td>\n",
       "      <td>2021 VOLKSWAGEN ID.4</td>\n",
       "    </tr>\n",
       "    <tr>\n",
       "      <th>3</th>\n",
       "      <td>JTDKARFP6H</td>\n",
       "      <td>Thurston</td>\n",
       "      <td>Olympia</td>\n",
       "      <td>WA</td>\n",
       "      <td>98501.0</td>\n",
       "      <td>2017</td>\n",
       "      <td>TOYOTA</td>\n",
       "      <td>PRIUS PRIME</td>\n",
       "      <td>Plug-in Hybrid Electric Vehicle (PHEV)</td>\n",
       "      <td>Not eligible due to low battery range</td>\n",
       "      <td>25.0</td>\n",
       "      <td>0.0</td>\n",
       "      <td>22.0</td>\n",
       "      <td>349372929</td>\n",
       "      <td>POINT (-122.89166 47.03956)</td>\n",
       "      <td>PUGET SOUND ENERGY INC</td>\n",
       "      <td>5.306701e+10</td>\n",
       "      <td>2017 TOYOTA PRIUS PRIME</td>\n",
       "    </tr>\n",
       "    <tr>\n",
       "      <th>4</th>\n",
       "      <td>1FADP5CU9G</td>\n",
       "      <td>Thurston</td>\n",
       "      <td>Olympia</td>\n",
       "      <td>WA</td>\n",
       "      <td>98506.0</td>\n",
       "      <td>2016</td>\n",
       "      <td>FORD</td>\n",
       "      <td>C-MAX</td>\n",
       "      <td>Plug-in Hybrid Electric Vehicle (PHEV)</td>\n",
       "      <td>Not eligible due to low battery range</td>\n",
       "      <td>19.0</td>\n",
       "      <td>0.0</td>\n",
       "      <td>22.0</td>\n",
       "      <td>171625653</td>\n",
       "      <td>POINT (-122.87741 47.05997)</td>\n",
       "      <td>PUGET SOUND ENERGY INC</td>\n",
       "      <td>5.306701e+10</td>\n",
       "      <td>2016 FORD C-MAX</td>\n",
       "    </tr>\n",
       "  </tbody>\n",
       "</table>\n",
       "</div>"
      ],
      "text/plain": [
       "   vin_(1-10)    county       city state  postal_code  model_year        make  \\\n",
       "0  1N4AZ0CP8D      King  Shoreline    WA      98177.0        2013      NISSAN   \n",
       "1  5YJSA1E45K      King    Seattle    WA      98112.0        2019       TESLA   \n",
       "2  WVGUNPE28M    Kitsap     Olalla    WA      98359.0        2021  VOLKSWAGEN   \n",
       "3  JTDKARFP6H  Thurston    Olympia    WA      98501.0        2017      TOYOTA   \n",
       "4  1FADP5CU9G  Thurston    Olympia    WA      98506.0        2016        FORD   \n",
       "\n",
       "         model                   electric_vehicle_type  \\\n",
       "0         LEAF          Battery Electric Vehicle (BEV)   \n",
       "1      MODEL S          Battery Electric Vehicle (BEV)   \n",
       "2         ID.4          Battery Electric Vehicle (BEV)   \n",
       "3  PRIUS PRIME  Plug-in Hybrid Electric Vehicle (PHEV)   \n",
       "4        C-MAX  Plug-in Hybrid Electric Vehicle (PHEV)   \n",
       "\n",
       "   clean_alternative_fuel_vehicle_(cafv)_eligibility  electric_range  \\\n",
       "0            Clean Alternative Fuel Vehicle Eligible            75.0   \n",
       "1            Clean Alternative Fuel Vehicle Eligible           270.0   \n",
       "2  Eligibility unknown as battery range has not b...             0.0   \n",
       "3              Not eligible due to low battery range            25.0   \n",
       "4              Not eligible due to low battery range            19.0   \n",
       "\n",
       "   base_msrp  legislative_district  dol_vehicle_id  \\\n",
       "0        0.0                  32.0       125450447   \n",
       "1        0.0                  43.0       101662900   \n",
       "2        0.0                  26.0       272118717   \n",
       "3        0.0                  22.0       349372929   \n",
       "4        0.0                  22.0       171625653   \n",
       "\n",
       "              vehicle_location                              electric_utility  \\\n",
       "0  POINT (-122.36498 47.72238)  CITY OF SEATTLE - (WA)|CITY OF TACOMA - (WA)   \n",
       "1  POINT (-122.30207 47.64085)  CITY OF SEATTLE - (WA)|CITY OF TACOMA - (WA)   \n",
       "2  POINT (-122.54729 47.42602)                        PUGET SOUND ENERGY INC   \n",
       "3  POINT (-122.89166 47.03956)                        PUGET SOUND ENERGY INC   \n",
       "4  POINT (-122.87741 47.05997)                        PUGET SOUND ENERGY INC   \n",
       "\n",
       "   2020_census_tract                  vehicle  \n",
       "0       5.303302e+10         2013 NISSAN LEAF  \n",
       "1       5.303301e+10       2019 TESLA MODEL S  \n",
       "2       5.303509e+10     2021 VOLKSWAGEN ID.4  \n",
       "3       5.306701e+10  2017 TOYOTA PRIUS PRIME  \n",
       "4       5.306701e+10          2016 FORD C-MAX  "
      ]
     },
     "execution_count": 2,
     "metadata": {},
     "output_type": "execute_result"
    }
   ],
   "source": [
    "electric_vehicle_population.columns = electric_vehicle_population.columns.str.lower().str.replace(' ', '_')\n",
    "\n",
    "electric_vehicle_population_clean = electric_vehicle_population.dropna(subset=['model'])\n",
    "\n",
    "electric_vehicle_population_clean['vehicle'] = electric_vehicle_population_clean['model_year'].astype(str) + ' ' + electric_vehicle_population_clean['make'] + ' ' + electric_vehicle_population_clean['model']\n",
    "\n",
    "electric_vehicle_population_clean.head()"
   ]
  },
  {
   "cell_type": "markdown",
   "metadata": {},
   "source": [
    "# Clean Income Data\n",
    "We are interested in the column `S1903_C03_001E`. To focus on zip codes and income data, we’ll clean the table by extracting zip codes, which are strings starting with “ZCTA5,” and removing the prefix to isolate the zip codes. This will leave us with a simplified table containing two columns: `zip_code` and `median_household_income`. Rows with missing income data are marked with “-”, so we’ll filter those out."
   ]
  },
  {
   "cell_type": "code",
   "execution_count": 3,
   "metadata": {},
   "outputs": [
    {
     "data": {
      "text/html": [
       "<div>\n",
       "<style scoped>\n",
       "    .dataframe tbody tr th:only-of-type {\n",
       "        vertical-align: middle;\n",
       "    }\n",
       "\n",
       "    .dataframe tbody tr th {\n",
       "        vertical-align: top;\n",
       "    }\n",
       "\n",
       "    .dataframe thead th {\n",
       "        text-align: right;\n",
       "    }\n",
       "</style>\n",
       "<table border=\"1\" class=\"dataframe\">\n",
       "  <thead>\n",
       "    <tr style=\"text-align: right;\">\n",
       "      <th></th>\n",
       "      <th>zip_code</th>\n",
       "      <th>median_household_income</th>\n",
       "    </tr>\n",
       "  </thead>\n",
       "  <tbody>\n",
       "    <tr>\n",
       "      <th>1</th>\n",
       "      <td>98001</td>\n",
       "      <td>88962</td>\n",
       "    </tr>\n",
       "    <tr>\n",
       "      <th>2</th>\n",
       "      <td>98002</td>\n",
       "      <td>59097</td>\n",
       "    </tr>\n",
       "    <tr>\n",
       "      <th>3</th>\n",
       "      <td>98003</td>\n",
       "      <td>59560</td>\n",
       "    </tr>\n",
       "    <tr>\n",
       "      <th>4</th>\n",
       "      <td>98004</td>\n",
       "      <td>142173</td>\n",
       "    </tr>\n",
       "    <tr>\n",
       "      <th>5</th>\n",
       "      <td>98005</td>\n",
       "      <td>135225</td>\n",
       "    </tr>\n",
       "  </tbody>\n",
       "</table>\n",
       "</div>"
      ],
      "text/plain": [
       "  zip_code median_household_income\n",
       "1    98001                   88962\n",
       "2    98002                   59097\n",
       "3    98003                   59560\n",
       "4    98004                  142173\n",
       "5    98005                  135225"
      ]
     },
     "execution_count": 3,
     "metadata": {},
     "output_type": "execute_result"
    }
   ],
   "source": [
    "census_median_income_clean = census_median_income.iloc[1:].copy()\n",
    "census_median_income_clean = census_median_income_clean[['NAME', 'S1903_C03_001E']]\n",
    "census_median_income_clean = census_median_income_clean.rename(columns={'S1903_C03_001E': 'median_household_income'})\n",
    "census_median_income_clean = census_median_income_clean.dropna(subset=['median_household_income'])\n",
    "\n",
    "# Extract zip codes and clean data\n",
    "census_median_income_clean['zip_code'] = census_median_income_clean['NAME'].str.split(' ').str[-1]\n",
    "census_median_income_clean = census_median_income_clean[['zip_code', 'median_household_income']]\n",
    "\n",
    "# Filter out rows with missing income data\n",
    "census_median_income_clean = census_median_income_clean[census_median_income_clean['median_household_income'] != '-']\n",
    "\n",
    "census_median_income_clean.head()"
   ]
  },
  {
   "cell_type": "markdown",
   "metadata": {},
   "source": [
    "# Investigate Correlation Between Electric Range and Suggested Price\n",
    "\n",
    "In the next section, we aim to investigate whether there is a correlation between the electric range of vehicles and their suggested price (base MSRP). This analysis will help us understand if vehicles with a higher electric range tend to have a higher suggested price."
   ]
  },
  {
   "cell_type": "code",
   "execution_count": 4,
   "metadata": {
    "vscode": {
     "languageId": "ruby"
    }
   },
   "outputs": [
    {
     "data": {
      "text/html": [
       "<div>\n",
       "<style scoped>\n",
       "    .dataframe tbody tr th:only-of-type {\n",
       "        vertical-align: middle;\n",
       "    }\n",
       "\n",
       "    .dataframe tbody tr th {\n",
       "        vertical-align: top;\n",
       "    }\n",
       "\n",
       "    .dataframe thead th {\n",
       "        text-align: right;\n",
       "    }\n",
       "</style>\n",
       "<table border=\"1\" class=\"dataframe\">\n",
       "  <thead>\n",
       "    <tr style=\"text-align: right;\">\n",
       "      <th></th>\n",
       "      <th>vehicle</th>\n",
       "      <th>base_msrp</th>\n",
       "      <th>electric_range</th>\n",
       "      <th>model_year</th>\n",
       "      <th>make</th>\n",
       "      <th>model</th>\n",
       "    </tr>\n",
       "  </thead>\n",
       "  <tbody>\n",
       "    <tr>\n",
       "      <th>52</th>\n",
       "      <td>2017 BMW 330E</td>\n",
       "      <td>44100.0</td>\n",
       "      <td>14.0</td>\n",
       "      <td>2017</td>\n",
       "      <td>BMW</td>\n",
       "      <td>330E</td>\n",
       "    </tr>\n",
       "    <tr>\n",
       "      <th>66</th>\n",
       "      <td>2016 KIA SOUL</td>\n",
       "      <td>31950.0</td>\n",
       "      <td>93.0</td>\n",
       "      <td>2016</td>\n",
       "      <td>KIA</td>\n",
       "      <td>SOUL</td>\n",
       "    </tr>\n",
       "    <tr>\n",
       "      <th>132</th>\n",
       "      <td>2014 TESLA MODEL S</td>\n",
       "      <td>69900.0</td>\n",
       "      <td>208.0</td>\n",
       "      <td>2014</td>\n",
       "      <td>TESLA</td>\n",
       "      <td>MODEL S</td>\n",
       "    </tr>\n",
       "    <tr>\n",
       "      <th>175</th>\n",
       "      <td>2019 BMW 530E</td>\n",
       "      <td>53400.0</td>\n",
       "      <td>16.0</td>\n",
       "      <td>2019</td>\n",
       "      <td>BMW</td>\n",
       "      <td>530E</td>\n",
       "    </tr>\n",
       "    <tr>\n",
       "      <th>252</th>\n",
       "      <td>2012 TESLA MODEL S</td>\n",
       "      <td>59900.0</td>\n",
       "      <td>265.0</td>\n",
       "      <td>2012</td>\n",
       "      <td>TESLA</td>\n",
       "      <td>MODEL S</td>\n",
       "    </tr>\n",
       "  </tbody>\n",
       "</table>\n",
       "</div>"
      ],
      "text/plain": [
       "                vehicle  base_msrp  electric_range  model_year   make    model\n",
       "52        2017 BMW 330E    44100.0            14.0        2017    BMW     330E\n",
       "66        2016 KIA SOUL    31950.0            93.0        2016    KIA     SOUL\n",
       "132  2014 TESLA MODEL S    69900.0           208.0        2014  TESLA  MODEL S\n",
       "175       2019 BMW 530E    53400.0            16.0        2019    BMW     530E\n",
       "252  2012 TESLA MODEL S    59900.0           265.0        2012  TESLA  MODEL S"
      ]
     },
     "execution_count": 4,
     "metadata": {},
     "output_type": "execute_result"
    }
   ],
   "source": [
    "# Filter the electric vehicles with base MSRP greater than 0\n",
    "electric_vehicle_msrp = electric_vehicle_population_clean[electric_vehicle_population_clean['base_msrp'] > 0]\n",
    "\n",
    "# Remove duplicates based on the 'vehicle' column and select the required columns\n",
    "electric_vehicle_msrp = electric_vehicle_msrp.drop_duplicates(subset='vehicle')[['vehicle', 'base_msrp', 'electric_range', 'model_year', 'make', 'model']]\n",
    "\n",
    "electric_vehicle_msrp.head()"
   ]
  },
  {
   "cell_type": "code",
   "execution_count": null,
   "metadata": {},
   "outputs": [
    {
     "data": {
      "text/html": [
       "<div>\n",
       "<style scoped>\n",
       "    .dataframe tbody tr th:only-of-type {\n",
       "        vertical-align: middle;\n",
       "    }\n",
       "\n",
       "    .dataframe tbody tr th {\n",
       "        vertical-align: top;\n",
       "    }\n",
       "\n",
       "    .dataframe thead th {\n",
       "        text-align: right;\n",
       "    }\n",
       "</style>\n",
       "<table border=\"1\" class=\"dataframe\">\n",
       "  <thead>\n",
       "    <tr style=\"text-align: right;\">\n",
       "      <th></th>\n",
       "      <th>vehicle</th>\n",
       "      <th>base_msrp</th>\n",
       "      <th>electric_range</th>\n",
       "      <th>model_year</th>\n",
       "      <th>make</th>\n",
       "      <th>model</th>\n",
       "    </tr>\n",
       "  </thead>\n",
       "  <tbody>\n",
       "    <tr>\n",
       "      <th>9171</th>\n",
       "      <td>2018 PORSCHE PANAMERA</td>\n",
       "      <td>184400.0</td>\n",
       "      <td>14.0</td>\n",
       "      <td>2018</td>\n",
       "      <td>PORSCHE</td>\n",
       "      <td>PANAMERA</td>\n",
       "    </tr>\n",
       "    <tr>\n",
       "      <th>43783</th>\n",
       "      <td>2015 PORSCHE 918</td>\n",
       "      <td>845000.0</td>\n",
       "      <td>12.0</td>\n",
       "      <td>2015</td>\n",
       "      <td>PORSCHE</td>\n",
       "      <td>918</td>\n",
       "    </tr>\n",
       "  </tbody>\n",
       "</table>\n",
       "</div>"
      ],
      "text/plain": [
       "                     vehicle  base_msrp  electric_range  model_year     make  \\\n",
       "9171   2018 PORSCHE PANAMERA   184400.0            14.0        2018  PORSCHE   \n",
       "43783       2015 PORSCHE 918   845000.0            12.0        2015  PORSCHE   \n",
       "\n",
       "          model  \n",
       "9171   PANAMERA  \n",
       "43783       918  "
      ]
     },
     "execution_count": 5,
     "metadata": {},
     "output_type": "execute_result"
    }
   ],
   "source": [
    "\n",
    "Q1 = electric_vehicle_msrp['base_msrp'].quantile(0.25)\n",
    "Q3 = electric_vehicle_msrp['base_msrp'].quantile(0.75)\n",
    "IQR = Q3 - Q1\n",
    "lower_bound = Q1 - 1.5 * IQR\n",
    "upper_bound = Q3 + 1.5 * IQR\n",
    "\n",
    "# Find outliers\n",
    "outliers = electric_vehicle_msrp[(electric_vehicle_msrp['base_msrp'] < lower_bound) | (electric_vehicle_msrp['base_msrp'] > upper_bound)]\n",
    "\n",
    "outliers"
   ]
  },
  {
   "cell_type": "code",
   "execution_count": 7,
   "metadata": {},
   "outputs": [],
   "source": [
    "# we remove the Porsche 918 from the dataset\n",
    "electric_vehicle_msrp = electric_vehicle_msrp[electric_vehicle_msrp['model'] != '918']"
   ]
  },
  {
   "cell_type": "code",
   "execution_count": 9,
   "metadata": {},
   "outputs": [
    {
     "data": {
      "image/png": "[encoded data removed]",
      "text/plain": [
       "<Figure size 1000x600 with 1 Axes>"
      ]
     },
     "metadata": {},
     "output_type": "display_data"
    }
   ],
   "source": [
    "import matplotlib.pyplot as plt\n",
    "\n",
    "plt.figure(figsize=(10, 6))\n",
    "plt.scatter(electric_vehicle_msrp['electric_range'], electric_vehicle_msrp['base_msrp'], color='blue')\n",
    "plt.title('Electric Range vs Base MSRP')\n",
    "plt.xlabel('Electric Range (miles)')\n",
    "plt.ylabel('Base MSRP ($)')\n",
    "plt.grid(True)\n",
    "plt.show()"
   ]
  },
  {
   "cell_type": "markdown",
   "metadata": {},
   "source": [
    "# Investigate Factors Influencing Units Sold\n",
    "\n",
    "To understand what factors influence the number of units sold, we will create a new dataset that aggregates the total units sold per vehicle model. This will allow us to analyze the relationship between various attributes (such as electric range, base MSRP, and model year) and the total units sold for each model."
   ]
  },
  {
   "cell_type": "code",
   "execution_count": 13,
   "metadata": {
    "vscode": {
     "languageId": "ruby"
    }
   },
   "outputs": [
    {
     "data": {
      "text/html": [
       "<div>\n",
       "<style scoped>\n",
       "    .dataframe tbody tr th:only-of-type {\n",
       "        vertical-align: middle;\n",
       "    }\n",
       "\n",
       "    .dataframe tbody tr th {\n",
       "        vertical-align: top;\n",
       "    }\n",
       "\n",
       "    .dataframe thead th {\n",
       "        text-align: right;\n",
       "    }\n",
       "</style>\n",
       "<table border=\"1\" class=\"dataframe\">\n",
       "  <thead>\n",
       "    <tr style=\"text-align: right;\">\n",
       "      <th></th>\n",
       "      <th>vehicle</th>\n",
       "      <th>electric_range</th>\n",
       "      <th>base_msrp</th>\n",
       "      <th>vehicle_n</th>\n",
       "    </tr>\n",
       "  </thead>\n",
       "  <tbody>\n",
       "    <tr>\n",
       "      <th>0</th>\n",
       "      <td>2013 TESLA MODEL S</td>\n",
       "      <td>208.0</td>\n",
       "      <td>69900.0</td>\n",
       "      <td>723</td>\n",
       "    </tr>\n",
       "    <tr>\n",
       "      <th>1</th>\n",
       "      <td>2014 TESLA MODEL S</td>\n",
       "      <td>208.0</td>\n",
       "      <td>69900.0</td>\n",
       "      <td>617</td>\n",
       "    </tr>\n",
       "    <tr>\n",
       "      <th>2</th>\n",
       "      <td>2016 KIA SOUL</td>\n",
       "      <td>93.0</td>\n",
       "      <td>31950.0</td>\n",
       "      <td>363</td>\n",
       "    </tr>\n",
       "    <tr>\n",
       "      <th>3</th>\n",
       "      <td>2017 KIA SOUL EV</td>\n",
       "      <td>93.0</td>\n",
       "      <td>32250.0</td>\n",
       "      <td>142</td>\n",
       "    </tr>\n",
       "    <tr>\n",
       "      <th>4</th>\n",
       "      <td>2018 VOLVO XC60</td>\n",
       "      <td>17.0</td>\n",
       "      <td>52900.0</td>\n",
       "      <td>128</td>\n",
       "    </tr>\n",
       "  </tbody>\n",
       "</table>\n",
       "</div>"
      ],
      "text/plain": [
       "              vehicle  electric_range  base_msrp  vehicle_n\n",
       "0  2013 TESLA MODEL S           208.0    69900.0        723\n",
       "1  2014 TESLA MODEL S           208.0    69900.0        617\n",
       "2       2016 KIA SOUL            93.0    31950.0        363\n",
       "3    2017 KIA SOUL EV            93.0    32250.0        142\n",
       "4     2018 VOLVO XC60            17.0    52900.0        128"
      ]
     },
     "execution_count": 13,
     "metadata": {},
     "output_type": "execute_result"
    }
   ],
   "source": [
    "import numpy as np\n",
    "\n",
    "# Replace 0 values with NaN\n",
    "electric_vehicle_population_clean['base_msrp'] = electric_vehicle_population_clean['base_msrp'].replace(0, np.nan)\n",
    "electric_vehicle_population_clean['electric_range'] = electric_vehicle_population_clean['electric_range'].replace(0, np.nan)\n",
    "\n",
    "# Group by vehicle, electric_range, and base_msrp and count the number of vehicles\n",
    "electric_vehicle_count = electric_vehicle_population_clean.groupby(['vehicle', 'electric_range', 'base_msrp']).size().reset_index(name='vehicle_n')\n",
    "\n",
    "# Sort the dataframe by vehicle_n in descending order\n",
    "electric_vehicle_count = electric_vehicle_count.sort_values(by='vehicle_n', ascending=False)\n",
    "\n",
    "# Convert to tibble-like format (optional, for display purposes)\n",
    "electric_vehicle_count = electric_vehicle_count.reset_index(drop=True)\n",
    "electric_vehicle_count.head()"
   ]
  },
  {
   "cell_type": "code",
   "execution_count": 14,
   "metadata": {},
   "outputs": [
    {
     "data": {
      "image/png": "[encoded data removed]",
      "text/plain": [
       "<Figure size 1000x600 with 1 Axes>"
      ]
     },
     "metadata": {},
     "output_type": "display_data"
    }
   ],
   "source": [
    "import seaborn as sns\n",
    "from scipy import stats\n",
    "\n",
    "# Perform linear regression\n",
    "slope, intercept, r_value, p_value, std_err = stats.linregress(electric_vehicle_count['electric_range'], electric_vehicle_count['vehicle_n'])\n",
    "\n",
    "# Create the plot\n",
    "plt.figure(figsize=(10, 6))\n",
    "sns.regplot(x='electric_range', y='vehicle_n', data=electric_vehicle_count, line_kws={'color': 'red'})\n",
    "plt.title('Electric Range vs Number of Vehicles Sold')\n",
    "plt.xlabel('Electric Range (miles)')\n",
    "plt.ylabel('Number of Vehicles Sold')\n",
    "plt.grid(True)\n",
    "plt.show()"
   ]
  },
  {
   "cell_type": "code",
   "execution_count": 15,
   "metadata": {},
   "outputs": [
    {
     "name": "stdout",
     "output_type": "stream",
     "text": [
      "Kendall correlation coefficient: 0.1912198844227032\n",
      "P-value: 0.13177826559948685\n"
     ]
    }
   ],
   "source": [
    "from scipy.stats import kendalltau\n",
    "\n",
    "# Perform Kendall correlation test\n",
    "range_cor, p_value = kendalltau(electric_vehicle_count['electric_range'], electric_vehicle_count['vehicle_n'])\n",
    "\n",
    "# Display the results\n",
    "print(f\"Kendall correlation coefficient: {range_cor}\")\n",
    "print(f\"P-value: {p_value}\")"
   ]
  },
  {
   "cell_type": "code",
   "execution_count": null,
   "metadata": {},
   "outputs": [],
   "source": [
    "# Perform linear regression\n",
    "slope, intercept, r_value, p_value, std_err = stats.linregress(electric_vehicle_count['base_msrp'], electric_vehicle_count['vehicle_n'])\n",
    "\n",
    "# Create the plot\n",
    "plt.figure(figsize=(10, 6))\n",
    "sns.regplot(x='base_msrp', y='vehicle_n', data=electric_vehicle_count, line_kws={'color': 'red'})\n",
    "plt.title('Base MSRP vs Number of Vehicles Sold')\n",
    "plt.xlabel('Base MSRP ($)')\n",
    "plt.ylabel('Number of Vehicles Sold')\n",
    "plt.grid(True)\n",
    "plt.show()"
   ]
  },
  {
   "cell_type": "code",
   "execution_count": 17,
   "metadata": {},
   "outputs": [
    {
     "data": {
      "image/png": "[encoded data removed]",
      "text/plain": [
       "<Figure size 1000x600 with 1 Axes>"
      ]
     },
     "metadata": {},
     "output_type": "display_data"
    }
   ],
   "source": [
    "# Perform linear regression\n",
    "slope_msrp, intercept_msrp, r_value_msrp, p_value_msrp, std_err_msrp = stats.linregress(electric_vehicle_count['base_msrp'], electric_vehicle_count['vehicle_n'])\n",
    "\n",
    "# Create the plot\n",
    "plt.figure(figsize=(10, 6))\n",
    "sns.regplot(x='base_msrp', y='vehicle_n', data=electric_vehicle_count, line_kws={'color': 'red'})\n",
    "plt.title('Base MSRP vs Number of Vehicles Sold')\n",
    "plt.xlabel('Base MSRP ($)')\n",
    "plt.ylabel('Number of Vehicles Sold')\n",
    "plt.grid(True)\n",
    "plt.show()"
   ]
  },
  {
   "cell_type": "code",
   "execution_count": 18,
   "metadata": {},
   "outputs": [
    {
     "name": "stdout",
     "output_type": "stream",
     "text": [
      "Kendall correlation coefficient: -0.35271703348011935\n",
      "P-value: 0.00411940877141904\n"
     ]
    }
   ],
   "source": [
    "from scipy.stats import kendalltau\n",
    "\n",
    "# Perform Kendall correlation test\n",
    "msrp_cor, p_value_msrp = kendalltau(electric_vehicle_count['base_msrp'], electric_vehicle_count['vehicle_n'])\n",
    "\n",
    "# Display the results\n",
    "print(f\"Kendall correlation coefficient: {msrp_cor}\")\n",
    "print(f\"P-value: {p_value_msrp}\")"
   ]
  },
  {
   "cell_type": "code",
   "execution_count": null,
   "metadata": {},
   "outputs": [],
   "source": []
  }
 ],
 "metadata": {
  "kernelspec": {
   "display_name": "base",
   "language": "python",
   "name": "python3"
  },
  "language_info": {
   "codemirror_mode": {
    "name": "ipython",
    "version": 3
   },
   "file_extension": ".py",
   "mimetype": "text/x-python",
   "name": "python",
   "nbconvert_exporter": "python",
   "pygments_lexer": "ipython3",
   "version": "3.9.7"
  }
 },
 "nbformat": 4,
 "nbformat_minor": 2
}
